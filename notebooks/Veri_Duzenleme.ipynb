{
  "nbformat": 4,
  "nbformat_minor": 0,
  "metadata": {
    "colab": {
      "provenance": []
    },
    "kernelspec": {
      "name": "python3",
      "display_name": "Python 3"
    },
    "language_info": {
      "name": "python"
    }
  },
  "cells": [
    {
      "cell_type": "code",
      "execution_count": null,
      "metadata": {
        "colab": {
          "base_uri": "https://localhost:8080/"
        },
        "id": "roW69N02RC2s",
        "outputId": "7fa0996d-c409-4c07-89cf-d36e8ed78019"
      },
      "outputs": [
        {
          "output_type": "stream",
          "name": "stdout",
          "text": [
            "        category  rating label  \\\n",
            "0  Electronics_5     5.0    CG   \n",
            "1  Electronics_5     5.0    CG   \n",
            "2  Electronics_5     5.0    CG   \n",
            "3  Electronics_5     5.0    CG   \n",
            "4  Electronics_5     5.0    CG   \n",
            "\n",
            "                                               text_  user_id        date  \\\n",
            "0  I've replaced all my other fountain filters an...     7334  2022-09-12   \n",
            "1  LT&T did not disappoint.  We have the characte...     8490  2022-12-11   \n",
            "2  Both of my dogs (full grown) love the taste. I...     3007  2022-04-29   \n",
            "3  First time user, glue last time. The only reas...    11583  2022-07-08   \n",
            "4  Klein is second to none.  The quality and qual...     2324  2022-05-23   \n",
            "\n",
            "                                     translated_text  \n",
            "0  Diğer tüm çeşme filtrelerimi değiştirdim ve re...  \n",
            "1  LT&T hayal kırıklığına uğratmadı.  Bu kitapta ...  \n",
            "2  Her iki köpeklerim de (tam yetişkin) tadı sevi...  \n",
            "3  İlk kez kullanıcı, geçen sefer yapıştırın. 4 y...  \n",
            "4  Klein hiçbiri ikinci değil.  Klein ürünlerinin...  \n"
          ]
        }
      ],
      "source": [
        "import pandas as pd\n",
        "\n",
        "# CSV dosyasını yükle\n",
        "df = pd.read_csv(\"/content/translated_reviews_5000.csv\")\n",
        "\n",
        "# İlk 5 satırı görüntüle\n",
        "print(df.head())\n"
      ]
    },
    {
      "cell_type": "code",
      "source": [
        "# Kullanılacak sütunları seç (örneğin)\n",
        "df = df[[\"translated_text\", \"label\"]]\n",
        "df = df.dropna()\n"
      ],
      "metadata": {
        "id": "6BNrVKNVRUFo"
      },
      "execution_count": null,
      "outputs": []
    },
    {
      "cell_type": "code",
      "source": [
        "df[\"label\"] = df[\"label\"].map({\"SAHTE\": 0, \"GERÇEK\": 1})  # veya {\"FAKE\": 0, \"REAL\": 1}\n"
      ],
      "metadata": {
        "id": "XLhJRXJ2RWZK"
      },
      "execution_count": null,
      "outputs": []
    },
    {
      "cell_type": "code",
      "source": [
        "df[\"translated_text\"] = df[\"translated_text\"].str.lower()\n"
      ],
      "metadata": {
        "id": "usHd8LIiRX6t"
      },
      "execution_count": null,
      "outputs": []
    },
    {
      "cell_type": "code",
      "source": [
        "import re\n",
        "\n",
        "def clean_text(text):\n",
        "    text = re.sub(r\"[^\\w\\s]\", \"\", text)  # Noktalama işaretlerini kaldır\n",
        "    text = re.sub(r\"\\d+\", \"\", text)      # Sayıları kaldır\n",
        "    return text\n",
        "\n",
        "df[\"translated_text\"] = df[\"translated_text\"].apply(clean_text)\n"
      ],
      "metadata": {
        "id": "6dV5mnmxRZhV"
      },
      "execution_count": null,
      "outputs": []
    },
    {
      "cell_type": "code",
      "source": [
        "import nltk\n",
        "nltk.download(\"stopwords\")\n",
        "from nltk.corpus import stopwords\n",
        "\n",
        "stop_words = set(stopwords.words(\"turkish\"))\n",
        "\n",
        "def remove_stopwords(text):\n",
        "    return \" \".join([word for word in text.split() if word not in stop_words])\n",
        "\n",
        "df[\"translated_text\"] = df[\"translated_text\"].apply(remove_stopwords)\n"
      ],
      "metadata": {
        "colab": {
          "base_uri": "https://localhost:8080/"
        },
        "id": "p2UU1ernRbbS",
        "outputId": "f8d0b4b5-b976-43d4-d973-dfa9007297a6"
      },
      "execution_count": null,
      "outputs": [
        {
          "output_type": "stream",
          "name": "stderr",
          "text": [
            "[nltk_data] Downloading package stopwords to /root/nltk_data...\n",
            "[nltk_data]   Unzipping corpora/stopwords.zip.\n"
          ]
        }
      ]
    },
    {
      "cell_type": "code",
      "source": [
        "df.to_csv(\"/content/translated_reviews_5000.csv\", index=False)\n"
      ],
      "metadata": {
        "id": "o0jVh1_dRdoF"
      },
      "execution_count": null,
      "outputs": []
    },
    {
      "cell_type": "code",
      "source": [
        "import os\n",
        "print(os.path.exists(\"/content/translated_reviews_5000.csv\"))\n"
      ],
      "metadata": {
        "colab": {
          "base_uri": "https://localhost:8080/"
        },
        "id": "yKnaNlx9R4Dm",
        "outputId": "c1044892-570b-433f-a9c0-31fd07f6f9b2"
      },
      "execution_count": null,
      "outputs": [
        {
          "output_type": "stream",
          "name": "stdout",
          "text": [
            "True\n"
          ]
        }
      ]
    },
    {
      "cell_type": "code",
      "source": [
        "from google.colab import files\n",
        "files.download(\"/content/translated_reviews_5000.csv\")\n"
      ],
      "metadata": {
        "colab": {
          "base_uri": "https://localhost:8080/",
          "height": 17
        },
        "id": "ibqhfJpUSH4R",
        "outputId": "e0d2edb6-095c-4c6a-f741-e0e79cbc3302"
      },
      "execution_count": null,
      "outputs": [
        {
          "output_type": "display_data",
          "data": {
            "text/plain": [
              "<IPython.core.display.Javascript object>"
            ],
            "application/javascript": [
              "\n",
              "    async function download(id, filename, size) {\n",
              "      if (!google.colab.kernel.accessAllowed) {\n",
              "        return;\n",
              "      }\n",
              "      const div = document.createElement('div');\n",
              "      const label = document.createElement('label');\n",
              "      label.textContent = `Downloading \"${filename}\": `;\n",
              "      div.appendChild(label);\n",
              "      const progress = document.createElement('progress');\n",
              "      progress.max = size;\n",
              "      div.appendChild(progress);\n",
              "      document.body.appendChild(div);\n",
              "\n",
              "      const buffers = [];\n",
              "      let downloaded = 0;\n",
              "\n",
              "      const channel = await google.colab.kernel.comms.open(id);\n",
              "      // Send a message to notify the kernel that we're ready.\n",
              "      channel.send({})\n",
              "\n",
              "      for await (const message of channel.messages) {\n",
              "        // Send a message to notify the kernel that we're ready.\n",
              "        channel.send({})\n",
              "        if (message.buffers) {\n",
              "          for (const buffer of message.buffers) {\n",
              "            buffers.push(buffer);\n",
              "            downloaded += buffer.byteLength;\n",
              "            progress.value = downloaded;\n",
              "          }\n",
              "        }\n",
              "      }\n",
              "      const blob = new Blob(buffers, {type: 'application/binary'});\n",
              "      const a = document.createElement('a');\n",
              "      a.href = window.URL.createObjectURL(blob);\n",
              "      a.download = filename;\n",
              "      div.appendChild(a);\n",
              "      a.click();\n",
              "      div.remove();\n",
              "    }\n",
              "  "
            ]
          },
          "metadata": {}
        },
        {
          "output_type": "display_data",
          "data": {
            "text/plain": [
              "<IPython.core.display.Javascript object>"
            ],
            "application/javascript": [
              "download(\"download_2bf2f599-fd43-49da-a2f9-2468d7373753\", \"translated_reviews_5000.csv\", 1558202)"
            ]
          },
          "metadata": {}
        }
      ]
    }
  ]
}