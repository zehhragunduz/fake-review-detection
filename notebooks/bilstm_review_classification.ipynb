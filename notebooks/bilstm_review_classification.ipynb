{
  "nbformat": 4,
  "nbformat_minor": 0,
  "metadata": {
    "colab": {
      "provenance": []
    },
    "kernelspec": {
      "name": "python3",
      "display_name": "Python 3"
    },
    "language_info": {
      "name": "python"
    }
  },
  "cells": [
    {
      "cell_type": "code",
      "execution_count": 1,
      "metadata": {
        "colab": {
          "base_uri": "https://localhost:8080/",
          "height": 854
        },
        "id": "RBGOCDaiSZ0L",
        "outputId": "5d0ad8ba-67d7-4cce-f392-1417e5b08311"
      },
      "outputs": [
        {
          "output_type": "stream",
          "name": "stderr",
          "text": [
            "/usr/local/lib/python3.11/dist-packages/keras/src/layers/core/embedding.py:90: UserWarning: Argument `input_length` is deprecated. Just remove it.\n",
            "  warnings.warn(\n"
          ]
        },
        {
          "output_type": "stream",
          "name": "stdout",
          "text": [
            "Epoch 1/5\n",
            "\u001b[1m50/50\u001b[0m \u001b[32m━━━━━━━━━━━━━━━━━━━━\u001b[0m\u001b[37m\u001b[0m \u001b[1m11s\u001b[0m 135ms/step - accuracy: 0.5073 - loss: 0.6861 - val_accuracy: 0.6925 - val_loss: 0.6048\n",
            "Epoch 2/5\n",
            "\u001b[1m50/50\u001b[0m \u001b[32m━━━━━━━━━━━━━━━━━━━━\u001b[0m\u001b[37m\u001b[0m \u001b[1m5s\u001b[0m 93ms/step - accuracy: 0.7171 - loss: 0.5808 - val_accuracy: 0.7500 - val_loss: 0.5509\n",
            "Epoch 3/5\n",
            "\u001b[1m50/50\u001b[0m \u001b[32m━━━━━━━━━━━━━━━━━━━━\u001b[0m\u001b[37m\u001b[0m \u001b[1m6s\u001b[0m 114ms/step - accuracy: 0.8818 - loss: 0.3131 - val_accuracy: 0.8125 - val_loss: 0.3990\n",
            "Epoch 4/5\n",
            "\u001b[1m50/50\u001b[0m \u001b[32m━━━━━━━━━━━━━━━━━━━━\u001b[0m\u001b[37m\u001b[0m \u001b[1m5s\u001b[0m 107ms/step - accuracy: 0.9465 - loss: 0.1442 - val_accuracy: 0.8150 - val_loss: 0.5327\n",
            "Epoch 5/5\n",
            "\u001b[1m50/50\u001b[0m \u001b[32m━━━━━━━━━━━━━━━━━━━━\u001b[0m\u001b[37m\u001b[0m \u001b[1m11s\u001b[0m 119ms/step - accuracy: 0.9830 - loss: 0.0549 - val_accuracy: 0.8375 - val_loss: 0.4756\n",
            "\u001b[1m13/13\u001b[0m \u001b[32m━━━━━━━━━━━━━━━━━━━━\u001b[0m\u001b[37m\u001b[0m \u001b[1m1s\u001b[0m 52ms/step\n",
            "              precision    recall  f1-score   support\n",
            "\n",
            "           0       0.80      0.90      0.85       203\n",
            "           1       0.88      0.77      0.82       197\n",
            "\n",
            "    accuracy                           0.84       400\n",
            "   macro avg       0.84      0.84      0.84       400\n",
            "weighted avg       0.84      0.84      0.84       400\n",
            "\n"
          ]
        },
        {
          "output_type": "display_data",
          "data": {
            "text/plain": [
              "<Figure size 640x480 with 2 Axes>"
            ],
            "image/png": "[encoded data removed]"
          },
          "metadata": {}
        }
      ],
      "source": [
        "import pandas as pd\n",
        "from sklearn.model_selection import train_test_split\n",
        "from tensorflow.keras.preprocessing.text import Tokenizer\n",
        "from tensorflow.keras.preprocessing.sequence import pad_sequences\n",
        "from tensorflow.keras.models import Sequential\n",
        "from tensorflow.keras.layers import Embedding, Bidirectional, LSTM, Dense\n",
        "from sklearn.metrics import classification_report, confusion_matrix, ConfusionMatrixDisplay\n",
        "import matplotlib.pyplot as plt\n",
        "\n",
        "# 1. VERİYİ YÜKLE\n",
        "df = pd.read_csv(\"/content/sonveriseti.csv\")\n",
        "\n",
        "# 2. GEREKLİ SÜTUNLARI AL\n",
        "df = df[['translated_text', 'label']].copy()\n",
        "df.rename(columns={'translated_text': 'review'}, inplace=True)\n",
        "\n",
        "# 3. NaN temizliği\n",
        "df.dropna(inplace=True)\n",
        "df['label'] = df['label'].astype(int)\n",
        "\n",
        "# 4. EĞİTİM / TEST AYIR\n",
        "X = df['review'].values\n",
        "y = df['label'].values\n",
        "X_train, X_test, y_train, y_test = train_test_split(X, y, test_size=0.2, random_state=42)\n",
        "\n",
        "# 5. TOKENIZER ve PADDING\n",
        "vocab_size = 10000\n",
        "max_len = 100\n",
        "\n",
        "tokenizer = Tokenizer(num_words=vocab_size, oov_token=\"<OOV>\")\n",
        "tokenizer.fit_on_texts(X_train)\n",
        "\n",
        "X_train_seq = tokenizer.texts_to_sequences(X_train)\n",
        "X_test_seq = tokenizer.texts_to_sequences(X_test)\n",
        "\n",
        "X_train_pad = pad_sequences(X_train_seq, maxlen=max_len, padding='post')\n",
        "X_test_pad = pad_sequences(X_test_seq, maxlen=max_len, padding='post')\n",
        "\n",
        "# 6. BiLSTM MODELİ\n",
        "model = Sequential([\n",
        "    Embedding(input_dim=vocab_size, output_dim=64, input_length=max_len),\n",
        "    Bidirectional(LSTM(64)),\n",
        "    Dense(32, activation='relu'),\n",
        "    Dense(1, activation='sigmoid')\n",
        "])\n",
        "\n",
        "model.compile(loss='binary_crossentropy', optimizer='adam', metrics=['accuracy'])\n",
        "\n",
        "# 7. MODELİ EĞİT\n",
        "history = model.fit(X_train_pad, y_train, epochs=5, batch_size=32, validation_data=(X_test_pad, y_test))\n",
        "\n",
        "# 8. TAHMİN VE METRİKLER\n",
        "y_pred = (model.predict(X_test_pad) > 0.5).astype(\"int32\")\n",
        "\n",
        "print(classification_report(y_test, y_pred))\n",
        "\n",
        "# 9. CONFUSION MATRIX\n",
        "cm = confusion_matrix(y_test, y_pred)\n",
        "disp = ConfusionMatrixDisplay(confusion_matrix=cm, display_labels=[\"SAHTE\", \"GERÇEK\"])\n",
        "disp.plot(cmap=plt.cm.Blues)\n",
        "plt.title(\"BiLSTM Confusion Matrix\")\n",
        "plt.show()\n"
      ]
    },
    {
      "cell_type": "code",
      "source": [
        "from tensorflow.keras.preprocessing.sequence import pad_sequences\n",
        "\n",
        "def yorum_tahmin_et(yorum):\n",
        "    # Yorumu sayıya çevir\n",
        "    seq = tokenizer.texts_to_sequences([yorum])\n",
        "\n",
        "    # Sabit uzunluğa pad et\n",
        "    pad_seq = pad_sequences(seq, maxlen=max_len, padding='post')\n",
        "\n",
        "    # Tahmin yap\n",
        "    tahmin = model.predict(pad_seq)[0][0]\n",
        "\n",
        "    # Ekrana yazdır\n",
        "    if tahmin >= 0.5:\n",
        "        print(f\"✅ GERÇEK yorum ({tahmin:.2f})\")\n",
        "    else:\n",
        "        print(f\"❌ SAHTE yorum ({tahmin:.2f})\")\n"
      ],
      "metadata": {
        "id": "I322CMrnUATH"
      },
      "execution_count": 15,
      "outputs": []
    },
    {
      "cell_type": "code",
      "source": [
        "yorumlar = [\n",
        "    # SAHTE yorumlar\n",
        "    \"Ürün mükemmel, harika, şahane, mutlaka alın!\",  # aşırı olumlu dolgu\n",
        "    \"Kesinlikle tavsiye ederim, herkes alsın bence.\",  # yapay tavsiye\n",
        "    \"Harika! Harika! Harika!\",  # tekrar ve abartı\n",
        "    \"Henüz kullanmadım ama iyi gibi duruyor.\",  # deneyimsiz\n",
        "    \"Bu ürünü ikinci kez alıyorum çünkü çok güzel. (ilk kez almış)\",  # tutarsız\n",
        "    \"Satıcı çok ilgiliydi ama ürünü daha açmadım.\",  # içerik yok\n",
        "    \"Ürün güzel, kaliteli, sağlam, hoş. (detay yok)\",  # kalıp cümle\n",
        "    \"Ürün çok iyi çalışıyor (yorum 5 farklı üründe aynı)\",  # kopya yorum\n",
        "    \"1 dakikadır kullanıyorum, çok kaliteli bir ürün.\",  # kısa deneyim\n",
        "    \"Gerçekten harika. Sadece harika.\",  # içeriksiz ve boş\n",
        "\n",
        "    # GERÇEK yorumlar\n",
        "    \"Kargo zamanında geldi ancak kutu biraz ezilmişti.\",\n",
        "    \"2 haftadır kullanıyorum, pil performansı beklentimi aştı.\",\n",
        "    \"Ürünün açıklamasında yazan renk farklı geldi ama iade ettim.\",\n",
        "    \"Kablo uzunluğu yeterli değil ama ses kalitesi iyi.\",\n",
        "    \"Ekran camında çizik vardı, garantiye gönderdim.\",\n",
        "    \"Kullanımı kolay ama şarj süresi biraz kısa.\",\n",
        "    \"Paketlemesi güzeldi ve hızlı teslimat yapıldı.\",\n",
        "    \"Kutusundan kulaklık çıkmadı, firmayla iletişime geçtim.\",\n",
        "    \"Malzeme kalitesi fiyatına göre iyi, memnun kaldım.\",\n",
        "    \"Uzun süreli kullanımda biraz ısınıyor ama genel olarak iyi.\"\n",
        "]\n"
      ],
      "metadata": {
        "id": "xP8-T65nU2na"
      },
      "execution_count": 16,
      "outputs": []
    },
    {
      "cell_type": "code",
      "source": [
        "for yorum in yorumlar:\n",
        "    print(\"📝 Yorum:\", yorum)\n",
        "    yorum_tahmin_et(yorum)  # Daha önce verdiğimiz tahmin fonksiyonu\n",
        "    print(\"-\" * 60)\n"
      ],
      "metadata": {
        "colab": {
          "base_uri": "https://localhost:8080/"
        },
        "id": "mPczzLMeU4YC",
        "outputId": "e783c53b-03e7-4114-fe36-a2aea6fb6ce5"
      },
      "execution_count": 17,
      "outputs": [
        {
          "output_type": "stream",
          "name": "stdout",
          "text": [
            "📝 Yorum: Ürün mükemmel, harika, şahane, mutlaka alın!\n",
            "\u001b[1m1/1\u001b[0m \u001b[32m━━━━━━━━━━━━━━━━━━━━\u001b[0m\u001b[37m\u001b[0m \u001b[1m0s\u001b[0m 45ms/step\n",
            "❌ SAHTE yorum (0.40)\n",
            "------------------------------------------------------------\n",
            "📝 Yorum: Kesinlikle tavsiye ederim, herkes alsın bence.\n",
            "\u001b[1m1/1\u001b[0m \u001b[32m━━━━━━━━━━━━━━━━━━━━\u001b[0m\u001b[37m\u001b[0m \u001b[1m0s\u001b[0m 43ms/step\n",
            "✅ GERÇEK yorum (0.78)\n",
            "------------------------------------------------------------\n",
            "📝 Yorum: Harika! Harika! Harika!\n",
            "\u001b[1m1/1\u001b[0m \u001b[32m━━━━━━━━━━━━━━━━━━━━\u001b[0m\u001b[37m\u001b[0m \u001b[1m0s\u001b[0m 46ms/step\n",
            "✅ GERÇEK yorum (0.80)\n",
            "------------------------------------------------------------\n",
            "📝 Yorum: Henüz kullanmadım ama iyi gibi duruyor.\n",
            "\u001b[1m1/1\u001b[0m \u001b[32m━━━━━━━━━━━━━━━━━━━━\u001b[0m\u001b[37m\u001b[0m \u001b[1m0s\u001b[0m 44ms/step\n",
            "✅ GERÇEK yorum (0.62)\n",
            "------------------------------------------------------------\n",
            "📝 Yorum: Bu ürünü ikinci kez alıyorum çünkü çok güzel. (ilk kez almış)\n",
            "\u001b[1m1/1\u001b[0m \u001b[32m━━━━━━━━━━━━━━━━━━━━\u001b[0m\u001b[37m\u001b[0m \u001b[1m0s\u001b[0m 48ms/step\n",
            "❌ SAHTE yorum (0.33)\n",
            "------------------------------------------------------------\n",
            "📝 Yorum: Satıcı çok ilgiliydi ama ürünü daha açmadım.\n",
            "\u001b[1m1/1\u001b[0m \u001b[32m━━━━━━━━━━━━━━━━━━━━\u001b[0m\u001b[37m\u001b[0m \u001b[1m0s\u001b[0m 48ms/step\n",
            "✅ GERÇEK yorum (0.50)\n",
            "------------------------------------------------------------\n",
            "📝 Yorum: Ürün güzel, kaliteli, sağlam, hoş. (detay yok)\n",
            "\u001b[1m1/1\u001b[0m \u001b[32m━━━━━━━━━━━━━━━━━━━━\u001b[0m\u001b[37m\u001b[0m \u001b[1m0s\u001b[0m 47ms/step\n",
            "❌ SAHTE yorum (0.46)\n",
            "------------------------------------------------------------\n",
            "📝 Yorum: Ürün çok iyi çalışıyor (yorum 5 farklı üründe aynı)\n",
            "\u001b[1m1/1\u001b[0m \u001b[32m━━━━━━━━━━━━━━━━━━━━\u001b[0m\u001b[37m\u001b[0m \u001b[1m0s\u001b[0m 46ms/step\n",
            "❌ SAHTE yorum (0.24)\n",
            "------------------------------------------------------------\n",
            "📝 Yorum: 1 dakikadır kullanıyorum, çok kaliteli bir ürün.\n",
            "\u001b[1m1/1\u001b[0m \u001b[32m━━━━━━━━━━━━━━━━━━━━\u001b[0m\u001b[37m\u001b[0m \u001b[1m0s\u001b[0m 46ms/step\n",
            "✅ GERÇEK yorum (0.92)\n",
            "------------------------------------------------------------\n",
            "📝 Yorum: Gerçekten harika. Sadece harika.\n",
            "\u001b[1m1/1\u001b[0m \u001b[32m━━━━━━━━━━━━━━━━━━━━\u001b[0m\u001b[37m\u001b[0m \u001b[1m0s\u001b[0m 45ms/step\n",
            "✅ GERÇEK yorum (0.62)\n",
            "------------------------------------------------------------\n",
            "📝 Yorum: Kargo zamanında geldi ancak kutu biraz ezilmişti.\n",
            "\u001b[1m1/1\u001b[0m \u001b[32m━━━━━━━━━━━━━━━━━━━━\u001b[0m\u001b[37m\u001b[0m \u001b[1m0s\u001b[0m 54ms/step\n",
            "❌ SAHTE yorum (0.35)\n",
            "------------------------------------------------------------\n",
            "📝 Yorum: 2 haftadır kullanıyorum, pil performansı beklentimi aştı.\n",
            "\u001b[1m1/1\u001b[0m \u001b[32m━━━━━━━━━━━━━━━━━━━━\u001b[0m\u001b[37m\u001b[0m \u001b[1m0s\u001b[0m 43ms/step\n",
            "❌ SAHTE yorum (0.28)\n",
            "------------------------------------------------------------\n",
            "📝 Yorum: Ürünün açıklamasında yazan renk farklı geldi ama iade ettim.\n",
            "\u001b[1m1/1\u001b[0m \u001b[32m━━━━━━━━━━━━━━━━━━━━\u001b[0m\u001b[37m\u001b[0m \u001b[1m0s\u001b[0m 46ms/step\n",
            "❌ SAHTE yorum (0.08)\n",
            "------------------------------------------------------------\n",
            "📝 Yorum: Kablo uzunluğu yeterli değil ama ses kalitesi iyi.\n",
            "\u001b[1m1/1\u001b[0m \u001b[32m━━━━━━━━━━━━━━━━━━━━\u001b[0m\u001b[37m\u001b[0m \u001b[1m0s\u001b[0m 50ms/step\n",
            "✅ GERÇEK yorum (0.52)\n",
            "------------------------------------------------------------\n",
            "📝 Yorum: Ekran camında çizik vardı, garantiye gönderdim.\n",
            "\u001b[1m1/1\u001b[0m \u001b[32m━━━━━━━━━━━━━━━━━━━━\u001b[0m\u001b[37m\u001b[0m \u001b[1m0s\u001b[0m 45ms/step\n",
            "❌ SAHTE yorum (0.25)\n",
            "------------------------------------------------------------\n",
            "📝 Yorum: Kullanımı kolay ama şarj süresi biraz kısa.\n",
            "\u001b[1m1/1\u001b[0m \u001b[32m━━━━━━━━━━━━━━━━━━━━\u001b[0m\u001b[37m\u001b[0m \u001b[1m0s\u001b[0m 43ms/step\n",
            "✅ GERÇEK yorum (0.83)\n",
            "------------------------------------------------------------\n",
            "📝 Yorum: Paketlemesi güzeldi ve hızlı teslimat yapıldı.\n",
            "\u001b[1m1/1\u001b[0m \u001b[32m━━━━━━━━━━━━━━━━━━━━\u001b[0m\u001b[37m\u001b[0m \u001b[1m0s\u001b[0m 48ms/step\n",
            "❌ SAHTE yorum (0.38)\n",
            "------------------------------------------------------------\n",
            "📝 Yorum: Kutusundan kulaklık çıkmadı, firmayla iletişime geçtim.\n",
            "\u001b[1m1/1\u001b[0m \u001b[32m━━━━━━━━━━━━━━━━━━━━\u001b[0m\u001b[37m\u001b[0m \u001b[1m0s\u001b[0m 43ms/step\n",
            "❌ SAHTE yorum (0.31)\n",
            "------------------------------------------------------------\n",
            "📝 Yorum: Malzeme kalitesi fiyatına göre iyi, memnun kaldım.\n",
            "\u001b[1m1/1\u001b[0m \u001b[32m━━━━━━━━━━━━━━━━━━━━\u001b[0m\u001b[37m\u001b[0m \u001b[1m0s\u001b[0m 46ms/step\n",
            "✅ GERÇEK yorum (0.63)\n",
            "------------------------------------------------------------\n",
            "📝 Yorum: Uzun süreli kullanımda biraz ısınıyor ama genel olarak iyi.\n",
            "\u001b[1m1/1\u001b[0m \u001b[32m━━━━━━━━━━━━━━━━━━━━\u001b[0m\u001b[37m\u001b[0m \u001b[1m0s\u001b[0m 47ms/step\n",
            "✅ GERÇEK yorum (0.51)\n",
            "------------------------------------------------------------\n"
          ]
        }
      ]
    }
  ]
}